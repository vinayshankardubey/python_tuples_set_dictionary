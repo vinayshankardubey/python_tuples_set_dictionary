{
  "cells": [
    {
      "cell_type": "markdown",
      "metadata": {
        "id": "view-in-github",
        "colab_type": "text"
      },
      "source": [
        "<a href=\"https://colab.research.google.com/github/vinayshankardubey/python_tuples_set_dictionary/blob/main/Tuples_%2C_set_%2C_dict_.ipynb\" target=\"_parent\"><img src=\"https://colab.research.google.com/assets/colab-badge.svg\" alt=\"Open In Colab\"/></a>"
      ]
    },
    {
      "cell_type": "code",
      "execution_count": 1,
      "metadata": {
        "id": "48IkASwA1dhj"
      },
      "outputs": [],
      "source": [
        "t = (1,2,3,4,5)"
      ]
    },
    {
      "cell_type": "code",
      "execution_count": null,
      "metadata": {
        "id": "kQsqwLzJ1dhv",
        "outputId": "9ff92322-32b3-4489-87b1-ea940187b543"
      },
      "outputs": [
        {
          "data": {
            "text/plain": [
              "tuple"
            ]
          },
          "execution_count": 2,
          "metadata": {},
          "output_type": "execute_result"
        }
      ],
      "source": [
        "type(t)"
      ]
    },
    {
      "cell_type": "code",
      "execution_count": null,
      "metadata": {
        "id": "134900EC1dhy"
      },
      "outputs": [],
      "source": [
        "t1 = (\"sudh\" , 345 , 45+78j , 546.56 ,True)"
      ]
    },
    {
      "cell_type": "code",
      "execution_count": null,
      "metadata": {
        "id": "_4jiPD3s1dh0"
      },
      "outputs": [],
      "source": [
        " l = [\"sudh\" , 345 , 45+78j , 546.56 ,True]"
      ]
    },
    {
      "cell_type": "code",
      "execution_count": null,
      "metadata": {
        "id": "89g4TwBP1dh1",
        "outputId": "02516b5d-0662-4bba-e044-69f130ac0ed9"
      },
      "outputs": [
        {
          "data": {
            "text/plain": [
              "tuple"
            ]
          },
          "execution_count": 6,
          "metadata": {},
          "output_type": "execute_result"
        }
      ],
      "source": [
        "type(t1)"
      ]
    },
    {
      "cell_type": "code",
      "execution_count": null,
      "metadata": {
        "id": "9E_mH5Cf1dh3",
        "outputId": "61f0c8d1-4c63-49b7-e655-65d0150b1091"
      },
      "outputs": [
        {
          "data": {
            "text/plain": [
              "list"
            ]
          },
          "execution_count": 7,
          "metadata": {},
          "output_type": "execute_result"
        }
      ],
      "source": [
        "type(l)"
      ]
    },
    {
      "cell_type": "code",
      "execution_count": null,
      "metadata": {
        "id": "1YPwzAMz1dh6"
      },
      "outputs": [],
      "source": [
        "t2 = ()"
      ]
    },
    {
      "cell_type": "code",
      "execution_count": null,
      "metadata": {
        "id": "Ce9S_LT01dh8",
        "outputId": "899d9590-45bc-489a-ecbb-6d503e731f64"
      },
      "outputs": [
        {
          "data": {
            "text/plain": [
              "tuple"
            ]
          },
          "execution_count": 9,
          "metadata": {},
          "output_type": "execute_result"
        }
      ],
      "source": [
        "type(t2)"
      ]
    },
    {
      "cell_type": "code",
      "execution_count": null,
      "metadata": {
        "id": "2Zt8fOsJ1dh_",
        "outputId": "d36f94e1-a417-45c3-e826-40b9a8f1d825"
      },
      "outputs": [
        {
          "data": {
            "text/plain": [
              "('sudh', 345, (45+78j), 546.56, True)"
            ]
          },
          "execution_count": 10,
          "metadata": {},
          "output_type": "execute_result"
        }
      ],
      "source": [
        "t1"
      ]
    },
    {
      "cell_type": "code",
      "execution_count": null,
      "metadata": {
        "id": "lrRAHPhY1diC",
        "outputId": "650ed233-bc4d-4f92-fd37-0b7e7820de10"
      },
      "outputs": [
        {
          "data": {
            "text/plain": [
              "['sudh', 345, (45+78j), 546.56, True]"
            ]
          },
          "execution_count": 11,
          "metadata": {},
          "output_type": "execute_result"
        }
      ],
      "source": [
        "l"
      ]
    },
    {
      "cell_type": "code",
      "execution_count": null,
      "metadata": {
        "id": "ElLq2xqs1diE",
        "outputId": "68c8e8b6-cc95-46c8-d730-844fd2bdd8ff"
      },
      "outputs": [
        {
          "data": {
            "text/plain": [
              "['sudh', 345]"
            ]
          },
          "execution_count": 12,
          "metadata": {},
          "output_type": "execute_result"
        }
      ],
      "source": [
        "l[0:2]"
      ]
    },
    {
      "cell_type": "code",
      "execution_count": null,
      "metadata": {
        "id": "PYlOgq0A1diG",
        "outputId": "7573a14a-589d-4718-deb9-3c5eca7a4b24"
      },
      "outputs": [
        {
          "data": {
            "text/plain": [
              "('sudh', 345)"
            ]
          },
          "execution_count": 13,
          "metadata": {},
          "output_type": "execute_result"
        }
      ],
      "source": [
        "t1[0:2]"
      ]
    },
    {
      "cell_type": "code",
      "execution_count": null,
      "metadata": {
        "id": "rgYUCTxG1diI",
        "outputId": "6347e169-5652-483a-f8c8-b14617ff2361"
      },
      "outputs": [
        {
          "data": {
            "text/plain": [
              "(True, 546.56, (45+78j), 345, 'sudh')"
            ]
          },
          "execution_count": 14,
          "metadata": {},
          "output_type": "execute_result"
        }
      ],
      "source": [
        "t1[::-1]"
      ]
    },
    {
      "cell_type": "code",
      "execution_count": null,
      "metadata": {
        "id": "xxwvAret1diK",
        "outputId": "7f2c542f-b085-4872-eaf5-b23f05ed30c3"
      },
      "outputs": [
        {
          "data": {
            "text/plain": [
              "True"
            ]
          },
          "execution_count": 15,
          "metadata": {},
          "output_type": "execute_result"
        }
      ],
      "source": [
        "t1[-1]"
      ]
    },
    {
      "cell_type": "code",
      "execution_count": null,
      "metadata": {
        "id": "aTRRtBVN1diM",
        "outputId": "06fb7cf1-fd15-41b9-d9fd-bd9c27332900"
      },
      "outputs": [
        {
          "data": {
            "text/plain": [
              "('sudh', 345, (45+78j), 546.56, True)"
            ]
          },
          "execution_count": 16,
          "metadata": {},
          "output_type": "execute_result"
        }
      ],
      "source": [
        "t1"
      ]
    },
    {
      "cell_type": "code",
      "execution_count": null,
      "metadata": {
        "id": "x_EVc7oC1diN",
        "outputId": "4100a3af-67c3-4064-bc24-e7b1ef21c0d6"
      },
      "outputs": [
        {
          "data": {
            "text/plain": [
              "('sudh', (45+78j), True)"
            ]
          },
          "execution_count": 17,
          "metadata": {},
          "output_type": "execute_result"
        }
      ],
      "source": [
        "t1[0::2]"
      ]
    },
    {
      "cell_type": "code",
      "execution_count": null,
      "metadata": {
        "id": "Q0gJ38fP1diO",
        "outputId": "a2386fd5-98f6-43a3-ebc1-0d3a42a5a96b"
      },
      "outputs": [
        {
          "data": {
            "text/plain": [
              "['sudh', 345, (45+78j), 546.56, True]"
            ]
          },
          "execution_count": 18,
          "metadata": {},
          "output_type": "execute_result"
        }
      ],
      "source": [
        "l"
      ]
    },
    {
      "cell_type": "code",
      "execution_count": null,
      "metadata": {
        "id": "9W5FuASm1diP"
      },
      "outputs": [],
      "source": [
        "l1 = [4,5,6,7]"
      ]
    },
    {
      "cell_type": "code",
      "execution_count": null,
      "metadata": {
        "id": "jmJneThl1diQ"
      },
      "outputs": [],
      "source": [
        "l[0] = \"kumar\""
      ]
    },
    {
      "cell_type": "code",
      "execution_count": null,
      "metadata": {
        "id": "jLy9jlUX1diR",
        "outputId": "8a36dc61-b9ab-49ce-d5c6-ebbf37f6d0a8"
      },
      "outputs": [
        {
          "data": {
            "text/plain": [
              "['kumar', 345, (45+78j), 546.56, True]"
            ]
          },
          "execution_count": 22,
          "metadata": {},
          "output_type": "execute_result"
        }
      ],
      "source": [
        "l"
      ]
    },
    {
      "cell_type": "code",
      "execution_count": null,
      "metadata": {
        "id": "MJ9vxFDy1diT",
        "outputId": "45e42379-a4d3-40ba-9cfe-dc43ae62191c"
      },
      "outputs": [
        {
          "data": {
            "text/plain": [
              "('sudh', 345, (45+78j), 546.56, True)"
            ]
          },
          "execution_count": 23,
          "metadata": {},
          "output_type": "execute_result"
        }
      ],
      "source": [
        "t1"
      ]
    },
    {
      "cell_type": "code",
      "execution_count": null,
      "metadata": {
        "id": "I2Hcb6nK1diU",
        "outputId": "3e7ec096-ed9f-43f2-efa7-2b56e014a94f"
      },
      "outputs": [
        {
          "ename": "TypeError",
          "evalue": "'tuple' object does not support item assignment",
          "output_type": "error",
          "traceback": [
            "\u001b[1;31m---------------------------------------------------------------------------\u001b[0m",
            "\u001b[1;31mTypeError\u001b[0m                                 Traceback (most recent call last)",
            "\u001b[1;32m<ipython-input-25-5bd21952e310>\u001b[0m in \u001b[0;36m<module>\u001b[1;34m\u001b[0m\n\u001b[1;32m----> 1\u001b[1;33m \u001b[0mt1\u001b[0m\u001b[1;33m[\u001b[0m\u001b[1;36m0\u001b[0m\u001b[1;33m]\u001b[0m \u001b[1;33m=\u001b[0m \u001b[1;34m\"xyz\"\u001b[0m\u001b[1;33m\u001b[0m\u001b[1;33m\u001b[0m\u001b[0m\n\u001b[0m",
            "\u001b[1;31mTypeError\u001b[0m: 'tuple' object does not support item assignment"
          ]
        }
      ],
      "source": [
        "t1[0] = \"xyz\""
      ]
    },
    {
      "cell_type": "code",
      "execution_count": null,
      "metadata": {
        "id": "VIk-vl2v1diV"
      },
      "outputs": [],
      "source": [
        "s = \"sudh\""
      ]
    },
    {
      "cell_type": "code",
      "execution_count": null,
      "metadata": {
        "id": "i_cv-ZwU1diW",
        "outputId": "2d8f92e9-d5da-468d-ea65-84c008cb8e95"
      },
      "outputs": [
        {
          "ename": "TypeError",
          "evalue": "'str' object does not support item assignment",
          "output_type": "error",
          "traceback": [
            "\u001b[1;31m---------------------------------------------------------------------------\u001b[0m",
            "\u001b[1;31mTypeError\u001b[0m                                 Traceback (most recent call last)",
            "\u001b[1;32m<ipython-input-28-4911d8b25eb9>\u001b[0m in \u001b[0;36m<module>\u001b[1;34m\u001b[0m\n\u001b[1;32m----> 1\u001b[1;33m \u001b[0ms\u001b[0m\u001b[1;33m[\u001b[0m\u001b[1;36m0\u001b[0m\u001b[1;33m]\u001b[0m \u001b[1;33m=\u001b[0m \u001b[1;36m45\u001b[0m\u001b[1;33m\u001b[0m\u001b[1;33m\u001b[0m\u001b[0m\n\u001b[0m",
            "\u001b[1;31mTypeError\u001b[0m: 'str' object does not support item assignment"
          ]
        }
      ],
      "source": [
        "s[0] = 45"
      ]
    },
    {
      "cell_type": "code",
      "execution_count": null,
      "metadata": {
        "id": "k2Vd-U0_1diX",
        "outputId": "afdc066f-cc48-4da9-b1e4-97e5420e69f2"
      },
      "outputs": [
        {
          "data": {
            "text/plain": [
              "('sudh', 345, (45+78j), 546.56, True)"
            ]
          },
          "execution_count": 29,
          "metadata": {},
          "output_type": "execute_result"
        }
      ],
      "source": [
        "t1"
      ]
    },
    {
      "cell_type": "code",
      "execution_count": null,
      "metadata": {
        "id": "IvLtsSYd1diZ"
      },
      "outputs": [],
      "source": [
        "t2 = (34,56,56,56,5,656)"
      ]
    },
    {
      "cell_type": "code",
      "execution_count": null,
      "metadata": {
        "id": "klM0dI4O1dia",
        "outputId": "8456dc6a-d6eb-47b1-be36-bc4235c4dd9e"
      },
      "outputs": [
        {
          "data": {
            "text/plain": [
              "('sudh', 345, (45+78j), 546.56, True, 34, 56, 56, 56, 5, 656)"
            ]
          },
          "execution_count": 31,
          "metadata": {},
          "output_type": "execute_result"
        }
      ],
      "source": [
        "t1+t2"
      ]
    },
    {
      "cell_type": "code",
      "execution_count": null,
      "metadata": {
        "id": "mBnw7Wrd1dic",
        "outputId": "0e9cc621-25a9-4af0-f6f1-d717e52a1fcd"
      },
      "outputs": [
        {
          "data": {
            "text/plain": [
              "['kumar', 345, (45+78j), 546.56, True]"
            ]
          },
          "execution_count": 32,
          "metadata": {},
          "output_type": "execute_result"
        }
      ],
      "source": [
        "l"
      ]
    },
    {
      "cell_type": "code",
      "execution_count": null,
      "metadata": {
        "id": "guENM0QD1did",
        "outputId": "6ec7c228-9bc0-42c3-c633-4de7109fd5cf"
      },
      "outputs": [
        {
          "data": {
            "text/plain": [
              "[4, 5, 6, 7]"
            ]
          },
          "execution_count": 33,
          "metadata": {},
          "output_type": "execute_result"
        }
      ],
      "source": [
        "l1"
      ]
    },
    {
      "cell_type": "code",
      "execution_count": null,
      "metadata": {
        "id": "w9RsRU951die",
        "outputId": "1babf0a0-546e-45fe-8ca4-0eb5e1ac200f"
      },
      "outputs": [
        {
          "data": {
            "text/plain": [
              "['kumar', 345, (45+78j), 546.56, True, 4, 5, 6, 7]"
            ]
          },
          "execution_count": 34,
          "metadata": {},
          "output_type": "execute_result"
        }
      ],
      "source": [
        "l+l1"
      ]
    },
    {
      "cell_type": "code",
      "execution_count": null,
      "metadata": {
        "id": "rv2Hp5uT1dif",
        "outputId": "83f7321b-762f-423e-d2f8-f7547db232b7"
      },
      "outputs": [
        {
          "data": {
            "text/plain": [
              "('sudh', 345, (45+78j), 546.56, True)"
            ]
          },
          "execution_count": 35,
          "metadata": {},
          "output_type": "execute_result"
        }
      ],
      "source": [
        "t1"
      ]
    },
    {
      "cell_type": "code",
      "execution_count": null,
      "metadata": {
        "id": "2Drmua751dif",
        "outputId": "dda2778f-dd18-423f-e55f-e28b94a35221"
      },
      "outputs": [
        {
          "data": {
            "text/plain": [
              "('sudh', 345, (45+78j), 546.56, True, 'sudh', 345, (45+78j), 546.56, True)"
            ]
          },
          "execution_count": 36,
          "metadata": {},
          "output_type": "execute_result"
        }
      ],
      "source": [
        "t1*2"
      ]
    },
    {
      "cell_type": "code",
      "execution_count": null,
      "metadata": {
        "id": "t2jV0v951dig",
        "outputId": "cd34d81f-e5f7-4dbd-edca-de179537f8bd"
      },
      "outputs": [
        {
          "data": {
            "text/plain": [
              "('sudh', 345, (45+78j), 546.56, True)"
            ]
          },
          "execution_count": 37,
          "metadata": {},
          "output_type": "execute_result"
        }
      ],
      "source": [
        "t1"
      ]
    },
    {
      "cell_type": "code",
      "execution_count": null,
      "metadata": {
        "id": "wnoZRlz41dih",
        "outputId": "b5b15d3a-48d1-499d-f2e1-51af7cf4d147"
      },
      "outputs": [
        {
          "data": {
            "text/plain": [
              "1"
            ]
          },
          "execution_count": 39,
          "metadata": {},
          "output_type": "execute_result"
        }
      ],
      "source": [
        "t1.count(\"sudh\")"
      ]
    },
    {
      "cell_type": "code",
      "execution_count": null,
      "metadata": {
        "id": "jzdptPEa1dih",
        "outputId": "940cd753-93c5-4eb9-86c6-c50b838328c8"
      },
      "outputs": [
        {
          "data": {
            "text/plain": [
              "0"
            ]
          },
          "execution_count": 40,
          "metadata": {},
          "output_type": "execute_result"
        }
      ],
      "source": [
        "t1.index(\"sudh\")"
      ]
    },
    {
      "cell_type": "code",
      "execution_count": null,
      "metadata": {
        "id": "SRRS57QG1dii",
        "outputId": "aa2a6c70-479b-4046-ea59-b75635765954"
      },
      "outputs": [
        {
          "data": {
            "text/plain": [
              "['kumar', 345, (45+78j), 546.56, True]"
            ]
          },
          "execution_count": 38,
          "metadata": {},
          "output_type": "execute_result"
        }
      ],
      "source": [
        "l"
      ]
    },
    {
      "cell_type": "code",
      "execution_count": null,
      "metadata": {
        "id": "IMJpHcge1dik"
      },
      "outputs": [],
      "source": [
        "l."
      ]
    },
    {
      "cell_type": "code",
      "execution_count": null,
      "metadata": {
        "id": "mx9MJdq01dik"
      },
      "outputs": [],
      "source": [
        "t = (45,54,54,5, (4,5,6) , (\"sudh\"))"
      ]
    },
    {
      "cell_type": "code",
      "execution_count": null,
      "metadata": {
        "id": "Bi6B997b1dil",
        "outputId": "cb33c8ea-92c5-43c2-a6a2-3b33780c09ea"
      },
      "outputs": [
        {
          "data": {
            "text/plain": [
              "(45, 54, 54, 5, (4, 5, 6), 'sudh')"
            ]
          },
          "execution_count": 42,
          "metadata": {},
          "output_type": "execute_result"
        }
      ],
      "source": [
        "t"
      ]
    },
    {
      "cell_type": "code",
      "execution_count": null,
      "metadata": {
        "id": "dpC_59j_1dim"
      },
      "outputs": [],
      "source": [
        "t1 = ([3,4,54,6]  , (\"sd\" , 435,56) , \"ushd\")"
      ]
    },
    {
      "cell_type": "code",
      "execution_count": null,
      "metadata": {
        "id": "9PMgzekm1dim"
      },
      "outputs": [],
      "source": [
        "t1[0][2] = \"sudh\""
      ]
    },
    {
      "cell_type": "code",
      "execution_count": null,
      "metadata": {
        "id": "kykkIuSG1din",
        "outputId": "d5d77663-11a1-46dc-ee47-b8ebac400228"
      },
      "outputs": [
        {
          "data": {
            "text/plain": [
              "([3, 4, 'sudh', 6], ('sd', 435, 56), 'ushd')"
            ]
          },
          "execution_count": 48,
          "metadata": {},
          "output_type": "execute_result"
        }
      ],
      "source": [
        "t1"
      ]
    },
    {
      "cell_type": "code",
      "execution_count": null,
      "metadata": {
        "id": "8CbP8w551din",
        "outputId": "9df2bd19-8369-41de-a6a4-b190301ac6be"
      },
      "outputs": [
        {
          "ename": "TypeError",
          "evalue": "'tuple' object does not support item assignment",
          "output_type": "error",
          "traceback": [
            "\u001b[1;31m---------------------------------------------------------------------------\u001b[0m",
            "\u001b[1;31mTypeError\u001b[0m                                 Traceback (most recent call last)",
            "\u001b[1;32m<ipython-input-50-adad04fe9159>\u001b[0m in \u001b[0;36m<module>\u001b[1;34m\u001b[0m\n\u001b[1;32m----> 1\u001b[1;33m \u001b[0mt1\u001b[0m\u001b[1;33m[\u001b[0m\u001b[1;36m0\u001b[0m\u001b[1;33m]\u001b[0m \u001b[1;33m=\u001b[0m \u001b[1;34m\"sdfsaf\"\u001b[0m\u001b[1;33m\u001b[0m\u001b[1;33m\u001b[0m\u001b[0m\n\u001b[0m",
            "\u001b[1;31mTypeError\u001b[0m: 'tuple' object does not support item assignment"
          ]
        }
      ],
      "source": [
        "t1[0] = \"sdfsaf\""
      ]
    },
    {
      "cell_type": "code",
      "execution_count": null,
      "metadata": {
        "id": "h5xaWe1N1dio"
      },
      "outputs": [],
      "source": [
        "t1 = (53,54,45,4,5,4,54)"
      ]
    },
    {
      "cell_type": "code",
      "execution_count": null,
      "metadata": {
        "id": "Ftsyn7Il1dio"
      },
      "outputs": [],
      "source": [
        "l  = list(t1)"
      ]
    },
    {
      "cell_type": "code",
      "execution_count": null,
      "metadata": {
        "id": "5lWc6gFl1dip",
        "outputId": "ec7e1448-4f59-4f9d-a6c8-a8976fa3e8a3"
      },
      "outputs": [
        {
          "data": {
            "text/plain": [
              "[53, 54, 45, 4, 5, 4, 54]"
            ]
          },
          "execution_count": 54,
          "metadata": {},
          "output_type": "execute_result"
        }
      ],
      "source": [
        "l"
      ]
    },
    {
      "cell_type": "code",
      "execution_count": null,
      "metadata": {
        "id": "SLIty2J61diq",
        "outputId": "acd8efb3-1b96-47a3-ab19-bfd36861b34a"
      },
      "outputs": [
        {
          "data": {
            "text/plain": [
              "(53, 54, 45, 4, 5, 4, 54)"
            ]
          },
          "execution_count": 55,
          "metadata": {},
          "output_type": "execute_result"
        }
      ],
      "source": [
        "tuple(l)"
      ]
    },
    {
      "cell_type": "code",
      "execution_count": null,
      "metadata": {
        "id": "TURku5_t1dit"
      },
      "outputs": [],
      "source": [
        "l = [1,2,3,4,5,6,76,5,5,5,5,5,5,5,2,3,4,5,6,1,2,3]"
      ]
    },
    {
      "cell_type": "code",
      "execution_count": null,
      "metadata": {
        "id": "J0F9nBpa1diu",
        "outputId": "794c5977-0c38-48ff-fca7-2312b12828ba"
      },
      "outputs": [
        {
          "data": {
            "text/plain": [
              "{1, 2, 3, 4, 5, 6, 76}"
            ]
          },
          "execution_count": 58,
          "metadata": {},
          "output_type": "execute_result"
        }
      ],
      "source": [
        "set(l)"
      ]
    },
    {
      "cell_type": "code",
      "execution_count": null,
      "metadata": {
        "id": "qrqocOwn1diu"
      },
      "outputs": [],
      "source": [
        "s = {}"
      ]
    },
    {
      "cell_type": "code",
      "execution_count": null,
      "metadata": {
        "id": "7cprjPiP1div",
        "outputId": "90acc0e5-02a1-4837-ffe6-5a6afa43ff9b"
      },
      "outputs": [
        {
          "data": {
            "text/plain": [
              "dict"
            ]
          },
          "execution_count": 60,
          "metadata": {},
          "output_type": "execute_result"
        }
      ],
      "source": [
        "type(s)"
      ]
    },
    {
      "cell_type": "code",
      "execution_count": null,
      "metadata": {
        "id": "QeRKpUYy1div"
      },
      "outputs": [],
      "source": [
        "s1 = {2,3,4}"
      ]
    },
    {
      "cell_type": "code",
      "execution_count": null,
      "metadata": {
        "id": "3bK34kJe1diw",
        "outputId": "e5b903f0-5881-4a7a-8a51-ff580d210b47"
      },
      "outputs": [
        {
          "data": {
            "text/plain": [
              "set"
            ]
          },
          "execution_count": 62,
          "metadata": {},
          "output_type": "execute_result"
        }
      ],
      "source": [
        "type(s1)"
      ]
    },
    {
      "cell_type": "code",
      "execution_count": null,
      "metadata": {
        "id": "W_HTbg0E1dix"
      },
      "outputs": [],
      "source": [
        "s2={1,1,1,1,1,1,2,3,4,54,4,3,3,2,54}"
      ]
    },
    {
      "cell_type": "code",
      "execution_count": null,
      "metadata": {
        "id": "-Fk6cX751dix",
        "outputId": "ce9a0a1a-62da-4e68-a486-be5e3a2bb793"
      },
      "outputs": [
        {
          "data": {
            "text/plain": [
              "{1, 2, 3, 4, 54}"
            ]
          },
          "execution_count": 64,
          "metadata": {},
          "output_type": "execute_result"
        }
      ],
      "source": [
        "s2"
      ]
    },
    {
      "cell_type": "code",
      "execution_count": null,
      "metadata": {
        "id": "GSd1H67N1diy",
        "outputId": "6814bb9d-b486-488b-b922-f6b41a08d28b"
      },
      "outputs": [
        {
          "ename": "TypeError",
          "evalue": "'set' object is not subscriptable",
          "output_type": "error",
          "traceback": [
            "\u001b[1;31m---------------------------------------------------------------------------\u001b[0m",
            "\u001b[1;31mTypeError\u001b[0m                                 Traceback (most recent call last)",
            "\u001b[1;32m<ipython-input-65-ab7c8e26b0d3>\u001b[0m in \u001b[0;36m<module>\u001b[1;34m\u001b[0m\n\u001b[1;32m----> 1\u001b[1;33m \u001b[0ms2\u001b[0m\u001b[1;33m[\u001b[0m\u001b[1;36m0\u001b[0m\u001b[1;33m]\u001b[0m\u001b[1;33m\u001b[0m\u001b[1;33m\u001b[0m\u001b[0m\n\u001b[0m",
            "\u001b[1;31mTypeError\u001b[0m: 'set' object is not subscriptable"
          ]
        }
      ],
      "source": [
        "s2[0]"
      ]
    },
    {
      "cell_type": "code",
      "execution_count": null,
      "metadata": {
        "id": "K0NjEawT1diz",
        "outputId": "b4e401fe-8886-467a-f43e-6f1d1243c87c"
      },
      "outputs": [
        {
          "data": {
            "text/plain": [
              "[1, 2, 3, 4, 54]"
            ]
          },
          "execution_count": 67,
          "metadata": {},
          "output_type": "execute_result"
        }
      ],
      "source": [
        "list(s2)"
      ]
    },
    {
      "cell_type": "code",
      "execution_count": null,
      "metadata": {
        "id": "C7gpF_pd1di0",
        "outputId": "6a9e95bc-99a9-4733-d1bf-fdec33be55b5"
      },
      "outputs": [
        {
          "data": {
            "text/plain": [
              "{1, 2, 3, 4, 54}"
            ]
          },
          "execution_count": 68,
          "metadata": {},
          "output_type": "execute_result"
        }
      ],
      "source": [
        "s2"
      ]
    },
    {
      "cell_type": "code",
      "execution_count": null,
      "metadata": {
        "id": "0r7cB4U81di1"
      },
      "outputs": [],
      "source": [
        "s2.add(89777)"
      ]
    },
    {
      "cell_type": "code",
      "execution_count": null,
      "metadata": {
        "id": "Xaskm3v21di1",
        "outputId": "149dba5e-509b-4e9a-aa33-6159677292ef"
      },
      "outputs": [
        {
          "data": {
            "text/plain": [
              "{1, 2, 3, 4, 54, 89777}"
            ]
          },
          "execution_count": 70,
          "metadata": {},
          "output_type": "execute_result"
        }
      ],
      "source": [
        "s2"
      ]
    },
    {
      "cell_type": "code",
      "execution_count": null,
      "metadata": {
        "id": "YqwLQMHT1di2"
      },
      "outputs": [],
      "source": [
        "s2.add(\"sudh\")"
      ]
    },
    {
      "cell_type": "code",
      "execution_count": null,
      "metadata": {
        "id": "x6ndXaU41di2",
        "outputId": "e50ac8a6-200d-4e69-81a3-8175e0530914"
      },
      "outputs": [
        {
          "data": {
            "text/plain": [
              "{1, 2, 3, 4, 54, 89777, 'sudh'}"
            ]
          },
          "execution_count": 72,
          "metadata": {},
          "output_type": "execute_result"
        }
      ],
      "source": [
        "s2"
      ]
    },
    {
      "cell_type": "code",
      "execution_count": null,
      "metadata": {
        "id": "wRu8Qtyr1di3",
        "outputId": "63233a94-24b0-4f3a-ddf0-2560b27806ee"
      },
      "outputs": [
        {
          "ename": "TypeError",
          "evalue": "unhashable type: 'list'",
          "output_type": "error",
          "traceback": [
            "\u001b[1;31m---------------------------------------------------------------------------\u001b[0m",
            "\u001b[1;31mTypeError\u001b[0m                                 Traceback (most recent call last)",
            "\u001b[1;32m<ipython-input-73-345b76a01cc4>\u001b[0m in \u001b[0;36m<module>\u001b[1;34m\u001b[0m\n\u001b[1;32m----> 1\u001b[1;33m \u001b[0ms2\u001b[0m\u001b[1;33m.\u001b[0m\u001b[0madd\u001b[0m\u001b[1;33m(\u001b[0m\u001b[1;33m[\u001b[0m\u001b[1;36m3\u001b[0m\u001b[1;33m,\u001b[0m\u001b[1;36m4\u001b[0m\u001b[1;33m,\u001b[0m\u001b[1;36m5\u001b[0m\u001b[1;33m,\u001b[0m\u001b[1;36m6\u001b[0m\u001b[1;33m]\u001b[0m\u001b[1;33m)\u001b[0m\u001b[1;33m\u001b[0m\u001b[1;33m\u001b[0m\u001b[0m\n\u001b[0m",
            "\u001b[1;31mTypeError\u001b[0m: unhashable type: 'list'"
          ]
        }
      ],
      "source": [
        "s2.add([3,4,5,6])"
      ]
    },
    {
      "cell_type": "code",
      "execution_count": null,
      "metadata": {
        "id": "qY--UL621di4",
        "outputId": "82b3dc5a-ed54-4997-d9b7-7aff436b24ba"
      },
      "outputs": [
        {
          "ename": "TypeError",
          "evalue": "unhashable type: 'list'",
          "output_type": "error",
          "traceback": [
            "\u001b[1;31m---------------------------------------------------------------------------\u001b[0m",
            "\u001b[1;31mTypeError\u001b[0m                                 Traceback (most recent call last)",
            "\u001b[1;32m<ipython-input-74-41fccfa9cf4f>\u001b[0m in \u001b[0;36m<module>\u001b[1;34m\u001b[0m\n\u001b[1;32m----> 1\u001b[1;33m \u001b[1;33m{\u001b[0m\u001b[1;33m[\u001b[0m\u001b[1;36m3\u001b[0m\u001b[1;33m,\u001b[0m\u001b[1;36m4\u001b[0m\u001b[1;33m,\u001b[0m\u001b[1;36m5\u001b[0m\u001b[1;33m,\u001b[0m\u001b[1;36m6\u001b[0m\u001b[1;33m]\u001b[0m \u001b[1;33m,\u001b[0m\u001b[1;36m3\u001b[0m\u001b[1;33m,\u001b[0m\u001b[1;36m4\u001b[0m\u001b[1;33m,\u001b[0m\u001b[1;36m5\u001b[0m\u001b[1;33m,\u001b[0m\u001b[1;36m3\u001b[0m\u001b[1;33m,\u001b[0m\u001b[1;36m4\u001b[0m\u001b[1;33m,\u001b[0m\u001b[1;36m5\u001b[0m\u001b[1;33m}\u001b[0m\u001b[1;33m\u001b[0m\u001b[1;33m\u001b[0m\u001b[0m\n\u001b[0m",
            "\u001b[1;31mTypeError\u001b[0m: unhashable type: 'list'"
          ]
        }
      ],
      "source": [
        "{[3,4,5,6] ,3,4,5,3,4,5}"
      ]
    },
    {
      "cell_type": "code",
      "execution_count": null,
      "metadata": {
        "id": "yrgrtwPi1di5"
      },
      "outputs": [],
      "source": [
        "s = {(3,4,5,6) ,(3,4,5,6) ,3,4,5,3,4,5}"
      ]
    },
    {
      "cell_type": "code",
      "execution_count": null,
      "metadata": {
        "id": "Akk-gT3g1di5",
        "outputId": "4c83e943-90ed-4019-d8db-ecc5cf335910"
      },
      "outputs": [
        {
          "data": {
            "text/plain": [
              "{}"
            ]
          },
          "execution_count": 77,
          "metadata": {},
          "output_type": "execute_result"
        }
      ],
      "source": [
        "s"
      ]
    },
    {
      "cell_type": "code",
      "execution_count": null,
      "metadata": {
        "id": "yAQdwyjM1di6",
        "outputId": "a2c122bb-19d0-46bf-d511-dce2467d627d"
      },
      "outputs": [
        {
          "data": {
            "text/plain": [
              "{(3, 4, 5, 6), 3, 4, 5}"
            ]
          },
          "execution_count": 79,
          "metadata": {},
          "output_type": "execute_result"
        }
      ],
      "source": [
        "s"
      ]
    },
    {
      "cell_type": "code",
      "execution_count": null,
      "metadata": {
        "id": "CpkMpIsB1di8"
      },
      "outputs": [],
      "source": [
        "s.remove(4)"
      ]
    },
    {
      "cell_type": "code",
      "execution_count": null,
      "metadata": {
        "id": "KUkjjE571di9",
        "outputId": "f8585000-a290-4897-d8a0-ee0327c79567"
      },
      "outputs": [
        {
          "data": {
            "text/plain": [
              "{(3, 4, 5, 6), 3, 5}"
            ]
          },
          "execution_count": 81,
          "metadata": {},
          "output_type": "execute_result"
        }
      ],
      "source": [
        "s"
      ]
    },
    {
      "cell_type": "code",
      "execution_count": null,
      "metadata": {
        "id": "V36JMeDo1djH"
      },
      "outputs": [],
      "source": [
        "s.discard(5)"
      ]
    },
    {
      "cell_type": "code",
      "execution_count": null,
      "metadata": {
        "id": "JMpDKDu01djH",
        "outputId": "3b93ff1f-8ec1-4055-8431-57c268cb035d"
      },
      "outputs": [
        {
          "data": {
            "text/plain": [
              "{(3, 4, 5, 6), 3}"
            ]
          },
          "execution_count": 83,
          "metadata": {},
          "output_type": "execute_result"
        }
      ],
      "source": [
        "s"
      ]
    },
    {
      "cell_type": "code",
      "execution_count": null,
      "metadata": {
        "id": "N1rvArtB1djI",
        "outputId": "1c610763-f29c-49b4-9d99-32e68d877d0c"
      },
      "outputs": [
        {
          "ename": "KeyError",
          "evalue": "45",
          "output_type": "error",
          "traceback": [
            "\u001b[1;31m---------------------------------------------------------------------------\u001b[0m",
            "\u001b[1;31mKeyError\u001b[0m                                  Traceback (most recent call last)",
            "\u001b[1;32m<ipython-input-84-30b5ee21a9a0>\u001b[0m in \u001b[0;36m<module>\u001b[1;34m\u001b[0m\n\u001b[1;32m----> 1\u001b[1;33m \u001b[0ms\u001b[0m\u001b[1;33m.\u001b[0m\u001b[0mremove\u001b[0m\u001b[1;33m(\u001b[0m\u001b[1;36m45\u001b[0m\u001b[1;33m)\u001b[0m\u001b[1;33m\u001b[0m\u001b[1;33m\u001b[0m\u001b[0m\n\u001b[0m",
            "\u001b[1;31mKeyError\u001b[0m: 45"
          ]
        }
      ],
      "source": [
        "s.remove(45)"
      ]
    },
    {
      "cell_type": "code",
      "execution_count": null,
      "metadata": {
        "id": "1L4udEHO1djJ"
      },
      "outputs": [],
      "source": [
        "s.discard(45)"
      ]
    },
    {
      "cell_type": "code",
      "execution_count": null,
      "metadata": {
        "id": "BFpbDNRF1djJ",
        "outputId": "5e494588-3151-4bcc-b2f7-3aece6459c04"
      },
      "outputs": [
        {
          "data": {
            "text/plain": [
              "{'Sudh', 'sudh'}"
            ]
          },
          "execution_count": 86,
          "metadata": {},
          "output_type": "execute_result"
        }
      ],
      "source": [
        "{\"sudh\" ,\"Sudh\"}"
      ]
    },
    {
      "cell_type": "code",
      "execution_count": null,
      "metadata": {
        "id": "YOKkqrjA1djK"
      },
      "outputs": [],
      "source": [
        "s = {4,5,6,7,78 , 3,4,5,3,4,5 , \"sudh\" , \"sudh\"}"
      ]
    },
    {
      "cell_type": "code",
      "execution_count": null,
      "metadata": {
        "id": "m6AjyoA01djL",
        "outputId": "9608866b-3d57-4cc4-f5a5-60f5ce6a8b93"
      },
      "outputs": [
        {
          "data": {
            "text/plain": [
              "{3, 4, 5, 6, 7, 78, 'sudh'}"
            ]
          },
          "execution_count": 88,
          "metadata": {},
          "output_type": "execute_result"
        }
      ],
      "source": [
        "s"
      ]
    },
    {
      "cell_type": "code",
      "execution_count": null,
      "metadata": {
        "id": "CpTFIEbk1djL"
      },
      "outputs": [],
      "source": [
        "l = [3,4,5,6]"
      ]
    },
    {
      "cell_type": "code",
      "execution_count": null,
      "metadata": {
        "id": "3PD2c8Xe1djN",
        "outputId": "66fc6c11-7952-40c3-d357-a5d22f548566"
      },
      "outputs": [
        {
          "data": {
            "text/plain": [
              "{3, 4, 5, 6}"
            ]
          },
          "execution_count": 90,
          "metadata": {},
          "output_type": "execute_result"
        }
      ],
      "source": [
        "set(l)"
      ]
    },
    {
      "cell_type": "code",
      "execution_count": null,
      "metadata": {
        "id": "Z6bDhPnF1djO"
      },
      "outputs": [],
      "source": [
        "d = {3,4}"
      ]
    },
    {
      "cell_type": "code",
      "execution_count": null,
      "metadata": {
        "id": "FgmJqcFz1djP",
        "outputId": "6ee0134b-9dec-4a8f-a329-05256ef42958"
      },
      "outputs": [
        {
          "data": {
            "text/plain": [
              "set"
            ]
          },
          "execution_count": 94,
          "metadata": {},
          "output_type": "execute_result"
        }
      ],
      "source": [
        "type(d)"
      ]
    },
    {
      "cell_type": "code",
      "execution_count": null,
      "metadata": {
        "id": "kAJyGauI1djQ"
      },
      "outputs": [],
      "source": [
        "d = {4:\"sudh\"}"
      ]
    },
    {
      "cell_type": "code",
      "execution_count": null,
      "metadata": {
        "id": "uMEnkYl_1djQ"
      },
      "outputs": [],
      "source": [
        "d1 = {\"key1\" : 5445 , \"key2\" :\"sudh\" , 45 : [3,4,5,6]}"
      ]
    },
    {
      "cell_type": "code",
      "execution_count": null,
      "metadata": {
        "id": "B6Y_EEU-1djR"
      },
      "outputs": [],
      "source": [
        "l = [3,4,5,6,7]"
      ]
    },
    {
      "cell_type": "code",
      "execution_count": null,
      "metadata": {
        "id": "Xzwp76521djR",
        "outputId": "9a8e141e-ffd5-4165-9b56-984e8f699ecc"
      },
      "outputs": [
        {
          "data": {
            "text/plain": [
              "{'key1': 5445, 'key2': 'sudh', 45: [3, 4, 5, 6]}"
            ]
          },
          "execution_count": 100,
          "metadata": {},
          "output_type": "execute_result"
        }
      ],
      "source": [
        "d1"
      ]
    },
    {
      "cell_type": "code",
      "execution_count": null,
      "metadata": {
        "id": "A6SlEnZP1djS",
        "outputId": "363bf32a-1d94-4d29-97a0-4b7a4006f88f"
      },
      "outputs": [
        {
          "data": {
            "text/plain": [
              "3"
            ]
          },
          "execution_count": 101,
          "metadata": {},
          "output_type": "execute_result"
        }
      ],
      "source": [
        "l[0]"
      ]
    },
    {
      "cell_type": "code",
      "execution_count": null,
      "metadata": {
        "id": "_AyHY0zk1djS",
        "outputId": "57eee469-ecfd-4609-ac95-8b3645806069"
      },
      "outputs": [
        {
          "data": {
            "text/plain": [
              "5445"
            ]
          },
          "execution_count": 102,
          "metadata": {},
          "output_type": "execute_result"
        }
      ],
      "source": [
        "d1['key1']"
      ]
    },
    {
      "cell_type": "code",
      "execution_count": null,
      "metadata": {
        "id": "-ISBc6GN1djT",
        "outputId": "5f52009b-eb38-44a7-bdba-91d316dc7d1c"
      },
      "outputs": [
        {
          "data": {
            "text/plain": [
              "[3, 4, 5, 6]"
            ]
          },
          "execution_count": 103,
          "metadata": {},
          "output_type": "execute_result"
        }
      ],
      "source": [
        "d1[45]"
      ]
    },
    {
      "cell_type": "code",
      "execution_count": null,
      "metadata": {
        "id": "xOBvSgIB1djU"
      },
      "outputs": [],
      "source": [
        "d = {\"KEY\":{3,4,5,6}}"
      ]
    },
    {
      "cell_type": "code",
      "execution_count": null,
      "metadata": {
        "id": "FGQQx6Zl1djU"
      },
      "outputs": [],
      "source": [
        "d1 = {\"key1\" : [2,3,4,5]  , \"key2\":[2,3,4,5], \"kumar\" :45}"
      ]
    },
    {
      "cell_type": "code",
      "execution_count": null,
      "metadata": {
        "id": "okJgzCLq1djV",
        "outputId": "e362e2a3-a1ea-4769-a689-cd291768bdc4"
      },
      "outputs": [
        {
          "data": {
            "text/plain": [
              "[2, 3, 4, 5]"
            ]
          },
          "execution_count": 120,
          "metadata": {},
          "output_type": "execute_result"
        }
      ],
      "source": [
        "d1['key1']"
      ]
    },
    {
      "cell_type": "code",
      "execution_count": null,
      "metadata": {
        "id": "Or5YoQl01djV",
        "outputId": "81a58b8a-4856-42c3-ca96-8f08ce026011"
      },
      "outputs": [
        {
          "data": {
            "text/plain": [
              "45"
            ]
          },
          "execution_count": 121,
          "metadata": {},
          "output_type": "execute_result"
        }
      ],
      "source": [
        "d1['kumar']"
      ]
    },
    {
      "cell_type": "code",
      "execution_count": null,
      "metadata": {
        "id": "DMiRrMe91djW"
      },
      "outputs": [],
      "source": [
        "d3= {\"*+++\":\"venu\"}"
      ]
    },
    {
      "cell_type": "code",
      "execution_count": null,
      "metadata": {
        "id": "ugo8Ct5r1djW"
      },
      "outputs": [],
      "source": [
        "d = {'name' : \"sudhanshu\" , \"mo_no\" :3454354353 , \"mail_id\" :\"sudhanshu@xyz.com\",'key1':[4,5,6,7] , \"key2\" :(3,4,5,6),\"key3\" : {3,4,5,4,3,3,3,3,3,3,3},'key4':{1:5,4:6}}"
      ]
    },
    {
      "cell_type": "code",
      "execution_count": null,
      "metadata": {
        "id": "8Qex6-nk1djX",
        "outputId": "0aa27851-dfd6-4d17-bb62-ba4312d0d20a"
      },
      "outputs": [
        {
          "data": {
            "text/plain": [
              "{'name': 'sudhanshu',\n",
              " 'mo_no': 3454354353,\n",
              " 'mail_id': 'sudhanshu@xyz.com',\n",
              " 'key1': [4, 5, 6, 7],\n",
              " 'key2': (3, 4, 5, 6),\n",
              " 'key3': {3, 4, 5},\n",
              " 'key4': {1: 5, 4: 6}}"
            ]
          },
          "execution_count": 125,
          "metadata": {},
          "output_type": "execute_result"
        }
      ],
      "source": [
        "d"
      ]
    },
    {
      "cell_type": "code",
      "execution_count": null,
      "metadata": {
        "id": "npbT346V1djY",
        "outputId": "35bb59b5-e871-4bd8-8bee-bb4c5ac4a538"
      },
      "outputs": [
        {
          "data": {
            "text/plain": [
              "set"
            ]
          },
          "execution_count": 127,
          "metadata": {},
          "output_type": "execute_result"
        }
      ],
      "source": [
        "type(d['key3'])"
      ]
    },
    {
      "cell_type": "code",
      "execution_count": null,
      "metadata": {
        "id": "1Qd3yc2a1djZ",
        "outputId": "00000976-54e4-4c20-c660-2c819c4e7693"
      },
      "outputs": [
        {
          "data": {
            "text/plain": [
              "6"
            ]
          },
          "execution_count": 129,
          "metadata": {},
          "output_type": "execute_result"
        }
      ],
      "source": [
        "d['key4'][4]"
      ]
    },
    {
      "cell_type": "code",
      "execution_count": null,
      "metadata": {
        "id": "D1OQevMe1dja",
        "outputId": "5c7595f6-edb6-46f4-f864-27d3dc385413"
      },
      "outputs": [
        {
          "data": {
            "text/plain": [
              "{'name': 'sudhanshu',\n",
              " 'mo_no': 3454354353,\n",
              " 'mail_id': 'sudhanshu@xyz.com',\n",
              " 'key1': [4, 5, 6, 7],\n",
              " 'key2': (3, 4, 5, 6),\n",
              " 'key3': {3, 4, 5},\n",
              " 'key4': {1: 5, 4: 6}}"
            ]
          },
          "execution_count": 130,
          "metadata": {},
          "output_type": "execute_result"
        }
      ],
      "source": [
        "d"
      ]
    },
    {
      "cell_type": "code",
      "execution_count": null,
      "metadata": {
        "id": "eXw8XHF_1dja",
        "outputId": "6c1e83db-ad98-4ea1-89ba-902e6e6696f5"
      },
      "outputs": [
        {
          "data": {
            "text/plain": [
              "dict_keys(['name', 'mo_no', 'mail_id', 'key1', 'key2', 'key3', 'key4'])"
            ]
          },
          "execution_count": 131,
          "metadata": {},
          "output_type": "execute_result"
        }
      ],
      "source": [
        "d.keys()"
      ]
    },
    {
      "cell_type": "code",
      "execution_count": null,
      "metadata": {
        "id": "LfAyc_7B1djb",
        "outputId": "a82efc84-41e0-4edf-f4ee-f662506fffc0"
      },
      "outputs": [
        {
          "data": {
            "text/plain": [
              "dict_values(['sudhanshu', 3454354353, 'sudhanshu@xyz.com', [4, 5, 6, 7], (3, 4, 5, 6), {3, 4, 5}, {1: 5, 4: 6}])"
            ]
          },
          "execution_count": 132,
          "metadata": {},
          "output_type": "execute_result"
        }
      ],
      "source": [
        "d.values()"
      ]
    },
    {
      "cell_type": "code",
      "execution_count": null,
      "metadata": {
        "id": "Cm9KELZC1djc",
        "outputId": "20f316ff-0372-4e1c-82e5-5e3ea2f8a4d0"
      },
      "outputs": [
        {
          "data": {
            "text/plain": [
              "dict_items"
            ]
          },
          "execution_count": 134,
          "metadata": {},
          "output_type": "execute_result"
        }
      ],
      "source": [
        "type(d.items())"
      ]
    },
    {
      "cell_type": "code",
      "execution_count": null,
      "metadata": {
        "id": "OwET6rB11djd"
      },
      "outputs": [],
      "source": [
        "d = {'key1' : \"sudh\" , \"key2\" : [1,2,3,4]}"
      ]
    },
    {
      "cell_type": "code",
      "execution_count": null,
      "metadata": {
        "id": "SV4AcfQi1dje",
        "outputId": "4a207eec-9f14-4ae7-c467-a684adfb3bfb"
      },
      "outputs": [
        {
          "data": {
            "text/plain": [
              "{'key1': 'sudh', 'key2': [1, 2, 3, 4]}"
            ]
          },
          "execution_count": 136,
          "metadata": {},
          "output_type": "execute_result"
        }
      ],
      "source": [
        "d"
      ]
    },
    {
      "cell_type": "code",
      "execution_count": null,
      "metadata": {
        "id": "2xeU7lDO1djf"
      },
      "outputs": [],
      "source": [
        "d[\"key3\"]  = \"kumar\""
      ]
    },
    {
      "cell_type": "code",
      "execution_count": null,
      "metadata": {
        "id": "0HVDrX3i1djf",
        "outputId": "903be65d-cf08-46a1-8fa3-5cf38e79ed9d"
      },
      "outputs": [
        {
          "data": {
            "text/plain": [
              "{'key1': 'sudh', 'key2': [1, 2, 3, 4], 'key3': 'kumar'}"
            ]
          },
          "execution_count": 138,
          "metadata": {},
          "output_type": "execute_result"
        }
      ],
      "source": [
        "d"
      ]
    },
    {
      "cell_type": "code",
      "execution_count": null,
      "metadata": {
        "id": "eanNDx4-1djg"
      },
      "outputs": [],
      "source": [
        "d[4] = [2,4,4,4,5,4]"
      ]
    },
    {
      "cell_type": "code",
      "execution_count": null,
      "metadata": {
        "id": "jL4boPYT1djh",
        "outputId": "116142aa-fce5-43b9-c849-51afc967a3af"
      },
      "outputs": [
        {
          "data": {
            "text/plain": [
              "{'key1': 'sudh', 'key2': [1, 2, 3, 4], 'key3': 'kumar', 4: [2, 4, 4, 4, 5, 4]}"
            ]
          },
          "execution_count": 140,
          "metadata": {},
          "output_type": "execute_result"
        }
      ],
      "source": [
        "d"
      ]
    },
    {
      "cell_type": "code",
      "execution_count": null,
      "metadata": {
        "id": "fjGqdI2U1djh"
      },
      "outputs": [],
      "source": [
        "d['key1'] = \"fsafsadfads\""
      ]
    },
    {
      "cell_type": "code",
      "execution_count": null,
      "metadata": {
        "id": "ABILL6911dji",
        "outputId": "05a7e9a2-32f9-4451-8ba8-284a8d96c401"
      },
      "outputs": [
        {
          "data": {
            "text/plain": [
              "{'key1': 'fsafsadfads',\n",
              " 'key2': [1, 2, 3, 4],\n",
              " 'key3': 'kumar',\n",
              " 4: [2, 4, 4, 4, 5, 4]}"
            ]
          },
          "execution_count": 142,
          "metadata": {},
          "output_type": "execute_result"
        }
      ],
      "source": [
        "d"
      ]
    },
    {
      "cell_type": "code",
      "execution_count": null,
      "metadata": {
        "id": "d2mvSZF11djj"
      },
      "outputs": [],
      "source": [
        "del d['key1']"
      ]
    },
    {
      "cell_type": "code",
      "execution_count": null,
      "metadata": {
        "id": "vorSWGlf1dj0",
        "outputId": "14e9a019-ed34-4a13-efc9-e740d073898c"
      },
      "outputs": [
        {
          "data": {
            "text/plain": [
              "{'key2': [1, 2, 3, 4], 'key3': 'kumar', 4: [2, 4, 4, 4, 5, 4]}"
            ]
          },
          "execution_count": 144,
          "metadata": {},
          "output_type": "execute_result"
        }
      ],
      "source": [
        "d"
      ]
    },
    {
      "cell_type": "code",
      "execution_count": null,
      "metadata": {
        "id": "toS7-HR21dj1"
      },
      "outputs": [],
      "source": [
        "del d "
      ]
    },
    {
      "cell_type": "code",
      "execution_count": null,
      "metadata": {
        "id": "GxS9U1Jm1dj2",
        "outputId": "3a9dc0a4-d15d-4901-813c-4efd42b2a9fe"
      },
      "outputs": [
        {
          "ename": "NameError",
          "evalue": "name 'd' is not defined",
          "output_type": "error",
          "traceback": [
            "\u001b[1;31m---------------------------------------------------------------------------\u001b[0m",
            "\u001b[1;31mNameError\u001b[0m                                 Traceback (most recent call last)",
            "\u001b[1;32m<ipython-input-146-e983f374794d>\u001b[0m in \u001b[0;36m<module>\u001b[1;34m\u001b[0m\n\u001b[1;32m----> 1\u001b[1;33m \u001b[0md\u001b[0m\u001b[1;33m\u001b[0m\u001b[1;33m\u001b[0m\u001b[0m\n\u001b[0m",
            "\u001b[1;31mNameError\u001b[0m: name 'd' is not defined"
          ]
        }
      ],
      "source": [
        "d"
      ]
    },
    {
      "cell_type": "code",
      "execution_count": null,
      "metadata": {
        "id": "T9cbTP411dj3"
      },
      "outputs": [],
      "source": [
        "d1 = {'key1' : \"sudh\" , 'key2' : [4,5,6,7,8]} "
      ]
    },
    {
      "cell_type": "code",
      "execution_count": null,
      "metadata": {
        "id": "ea03jR3o1dj3",
        "outputId": "520b10f7-7b35-4065-e87d-ed3e668cbb0b"
      },
      "outputs": [
        {
          "ename": "TypeError",
          "evalue": "unhashable type: 'list'",
          "output_type": "error",
          "traceback": [
            "\u001b[1;31m---------------------------------------------------------------------------\u001b[0m",
            "\u001b[1;31mTypeError\u001b[0m                                 Traceback (most recent call last)",
            "\u001b[1;32m<ipython-input-148-be53110e7467>\u001b[0m in \u001b[0;36m<module>\u001b[1;34m\u001b[0m\n\u001b[1;32m----> 1\u001b[1;33m \u001b[0md1\u001b[0m\u001b[1;33m[\u001b[0m\u001b[1;33m[\u001b[0m\u001b[1;36m1\u001b[0m\u001b[1;33m,\u001b[0m\u001b[1;36m2\u001b[0m\u001b[1;33m,\u001b[0m\u001b[1;36m3\u001b[0m\u001b[1;33m]\u001b[0m\u001b[1;33m]\u001b[0m \u001b[1;33m=\u001b[0m \u001b[1;34m\"ineuron\"\u001b[0m\u001b[1;33m\u001b[0m\u001b[1;33m\u001b[0m\u001b[0m\n\u001b[0m",
            "\u001b[1;31mTypeError\u001b[0m: unhashable type: 'list'"
          ]
        }
      ],
      "source": [
        "d1[[1,2,3]] = \"ineuron\""
      ]
    },
    {
      "cell_type": "code",
      "execution_count": null,
      "metadata": {
        "id": "I6b8mWYz1dj4"
      },
      "outputs": [],
      "source": [
        "d1[(1,2,3)] = \"ineuron\""
      ]
    },
    {
      "cell_type": "code",
      "execution_count": null,
      "metadata": {
        "id": "w8RU0YlJ1dj4",
        "outputId": "170831b3-1248-459b-ddf1-c74f01034222"
      },
      "outputs": [
        {
          "data": {
            "text/plain": [
              "{'key1': 'sudh', 'key2': [4, 5, 6, 7, 8], (1, 2, 3): 'ineuron'}"
            ]
          },
          "execution_count": 150,
          "metadata": {},
          "output_type": "execute_result"
        }
      ],
      "source": [
        "d1"
      ]
    },
    {
      "cell_type": "code",
      "execution_count": null,
      "metadata": {
        "id": "aVXD7ODw1dj5",
        "outputId": "0ed0ca3e-0ca6-4516-fef4-c71cb0e9c21c"
      },
      "outputs": [
        {
          "data": {
            "text/plain": [
              "{'key1': 'sudh', 'key2': [4, 5, 6, 7, 8], (1, 2, 3): 'ineuron'}"
            ]
          },
          "execution_count": 151,
          "metadata": {},
          "output_type": "execute_result"
        }
      ],
      "source": [
        "d1"
      ]
    },
    {
      "cell_type": "code",
      "execution_count": null,
      "metadata": {
        "id": "YwJwQUL11dj6",
        "outputId": "7f85ddfc-3b8e-4e6a-f949-ccb961fe0e94"
      },
      "outputs": [
        {
          "data": {
            "text/plain": [
              "'sudh'"
            ]
          },
          "execution_count": 153,
          "metadata": {},
          "output_type": "execute_result"
        }
      ],
      "source": [
        "d1.get(\"key1\")"
      ]
    },
    {
      "cell_type": "code",
      "execution_count": null,
      "metadata": {
        "id": "zMlS_87_1dj7"
      },
      "outputs": [],
      "source": [
        "d1 = {'key1' : \"ineruon\" , \"key\"  : \"FSDS\"}"
      ]
    },
    {
      "cell_type": "code",
      "execution_count": null,
      "metadata": {
        "id": "z94iEbLd1dj8"
      },
      "outputs": [],
      "source": [
        "d2 = {\"key2\":456 , \"key3\" :[1,2,3,4,5]}"
      ]
    },
    {
      "cell_type": "code",
      "execution_count": null,
      "metadata": {
        "id": "jzbLZR-71dj8"
      },
      "outputs": [],
      "source": [
        "d1.update(d2)"
      ]
    },
    {
      "cell_type": "code",
      "execution_count": null,
      "metadata": {
        "id": "QwkimelI1dj8",
        "outputId": "ce0475e5-f96d-4135-e846-54c06d7be297"
      },
      "outputs": [
        {
          "data": {
            "text/plain": [
              "{'key1': 'ineruon', 'key': 'FSDS', 'key2': 456, 'key3': [1, 2, 3, 4, 5]}"
            ]
          },
          "execution_count": 157,
          "metadata": {},
          "output_type": "execute_result"
        }
      ],
      "source": [
        "d1"
      ]
    },
    {
      "cell_type": "code",
      "execution_count": null,
      "metadata": {
        "id": "vGkYtyLd1dj9",
        "outputId": "d05a6427-b762-40e2-c522-0f2a7905318e"
      },
      "outputs": [
        {
          "data": {
            "text/plain": [
              "{'key2': 456, 'key3': [1, 2, 3, 4, 5]}"
            ]
          },
          "execution_count": 158,
          "metadata": {},
          "output_type": "execute_result"
        }
      ],
      "source": [
        "d2"
      ]
    },
    {
      "cell_type": "code",
      "execution_count": null,
      "metadata": {
        "id": "D2Y-GZgN1dj_",
        "outputId": "50cf3761-ae3e-4507-b5bf-00654c20c2d0"
      },
      "outputs": [
        {
          "ename": "TypeError",
          "evalue": "unsupported operand type(s) for +: 'dict' and 'dict'",
          "output_type": "error",
          "traceback": [
            "\u001b[1;31m---------------------------------------------------------------------------\u001b[0m",
            "\u001b[1;31mTypeError\u001b[0m                                 Traceback (most recent call last)",
            "\u001b[1;32m<ipython-input-159-686adf62153a>\u001b[0m in \u001b[0;36m<module>\u001b[1;34m\u001b[0m\n\u001b[1;32m----> 1\u001b[1;33m \u001b[0md1\u001b[0m\u001b[1;33m+\u001b[0m\u001b[0md2\u001b[0m\u001b[1;33m\u001b[0m\u001b[1;33m\u001b[0m\u001b[0m\n\u001b[0m",
            "\u001b[1;31mTypeError\u001b[0m: unsupported operand type(s) for +: 'dict' and 'dict'"
          ]
        }
      ],
      "source": [
        "d1+d2"
      ]
    },
    {
      "cell_type": "code",
      "execution_count": null,
      "metadata": {
        "id": "mEAeaO0l1dkA"
      },
      "outputs": [],
      "source": [
        "l=[1,23,4,5]\n",
        "l.append(l)\n"
      ]
    },
    {
      "cell_type": "code",
      "execution_count": null,
      "metadata": {
        "id": "xvhSZQK61dkB",
        "outputId": "1736d3e1-a459-4fbf-b53d-072dfab4315b"
      },
      "outputs": [
        {
          "data": {
            "text/plain": [
              "[1, 23, 4, 5, [...]]"
            ]
          },
          "execution_count": 161,
          "metadata": {},
          "output_type": "execute_result"
        }
      ],
      "source": [
        "l"
      ]
    },
    {
      "cell_type": "code",
      "execution_count": null,
      "metadata": {
        "id": "QQiep3x41dkC",
        "outputId": "2c90bef8-046c-4881-8f8b-a9a044526b50"
      },
      "outputs": [
        {
          "data": {
            "text/plain": [
              "[1, 23, 4, 5, [...]]"
            ]
          },
          "execution_count": 162,
          "metadata": {},
          "output_type": "execute_result"
        }
      ],
      "source": [
        "l[4]"
      ]
    },
    {
      "cell_type": "code",
      "execution_count": null,
      "metadata": {
        "id": "pW9-UBKq1dkD",
        "outputId": "71c0ba41-72c2-4105-8436-0d91f51aa4bf"
      },
      "outputs": [
        {
          "data": {
            "text/plain": [
              "1"
            ]
          },
          "execution_count": 1,
          "metadata": {},
          "output_type": "execute_result"
        }
      ],
      "source": [
        "t1 = (\"aditya\",1,1+2j,3.4,True)\n",
        "t1.index(True)\n"
      ]
    },
    {
      "cell_type": "code",
      "execution_count": null,
      "metadata": {
        "id": "I1YftFpQ1dkE",
        "outputId": "3d9e97b3-7c59-40b5-e5c7-83939a2114b1"
      },
      "outputs": [
        {
          "ename": "NameError",
          "evalue": "name 'd1' is not defined",
          "output_type": "error",
          "traceback": [
            "\u001b[1;31m---------------------------------------------------------------------------\u001b[0m",
            "\u001b[1;31mNameError\u001b[0m                                 Traceback (most recent call last)",
            "\u001b[1;32m<ipython-input-2-2d3a24957153>\u001b[0m in \u001b[0;36m<module>\u001b[1;34m\u001b[0m\n\u001b[1;32m----> 1\u001b[1;33m \u001b[0md1\u001b[0m\u001b[1;33m\u001b[0m\u001b[1;33m\u001b[0m\u001b[0m\n\u001b[0m",
            "\u001b[1;31mNameError\u001b[0m: name 'd1' is not defined"
          ]
        }
      ],
      "source": [
        "d1"
      ]
    },
    {
      "cell_type": "code",
      "execution_count": null,
      "metadata": {
        "id": "NkGxy9gM1dkI",
        "outputId": "0f4dcc1a-a300-451f-bedd-ee492563037f"
      },
      "outputs": [
        {
          "data": {
            "text/plain": [
              "{'key1': 'ineruon', 'key': 'FSDS'}"
            ]
          },
          "execution_count": 5,
          "metadata": {},
          "output_type": "execute_result"
        }
      ],
      "source": [
        "d1"
      ]
    },
    {
      "cell_type": "code",
      "execution_count": null,
      "metadata": {
        "id": "qTKdk8pu1dkK",
        "outputId": "2a89df79-0419-44c3-c425-4fdef4530bc5"
      },
      "outputs": [
        {
          "data": {
            "text/plain": [
              "{'key2': 456, 'key3': [1, 2, 3, 4, 5]}"
            ]
          },
          "execution_count": 6,
          "metadata": {},
          "output_type": "execute_result"
        }
      ],
      "source": [
        "d2"
      ]
    },
    {
      "cell_type": "code",
      "execution_count": null,
      "metadata": {
        "id": "2f2Pcvvv1dkL",
        "outputId": "11f88c56-9bb8-4f72-91aa-3670efb617f2"
      },
      "outputs": [
        {
          "ename": "KeyError",
          "evalue": "'keyfdsf'",
          "output_type": "error",
          "traceback": [
            "\u001b[1;31m---------------------------------------------------------------------------\u001b[0m",
            "\u001b[1;31mKeyError\u001b[0m                                  Traceback (most recent call last)",
            "\u001b[1;32m<ipython-input-9-540c89fdb45d>\u001b[0m in \u001b[0;36m<module>\u001b[1;34m\u001b[0m\n\u001b[1;32m----> 1\u001b[1;33m \u001b[0md1\u001b[0m\u001b[1;33m[\u001b[0m\u001b[1;34m'keyfdsf'\u001b[0m\u001b[1;33m]\u001b[0m\u001b[1;33m\u001b[0m\u001b[1;33m\u001b[0m\u001b[0m\n\u001b[0m",
            "\u001b[1;31mKeyError\u001b[0m: 'keyfdsf'"
          ]
        }
      ],
      "source": [
        "d1['keyfdsf']"
      ]
    },
    {
      "cell_type": "code",
      "execution_count": null,
      "metadata": {
        "id": "FRC64oLv1dkM"
      },
      "outputs": [],
      "source": [
        "d1.get('key1fdsf')"
      ]
    },
    {
      "cell_type": "code",
      "execution_count": null,
      "metadata": {
        "id": "9s7kDMgQ1dkM",
        "outputId": "27f523be-6b6c-4cac-a2df-4e1ab49ee00d"
      },
      "outputs": [
        {
          "data": {
            "text/plain": [
              "{'key1': 'ineruon', 'key': 'FSDS'}"
            ]
          },
          "execution_count": 11,
          "metadata": {},
          "output_type": "execute_result"
        }
      ],
      "source": [
        "d1\n"
      ]
    },
    {
      "cell_type": "code",
      "execution_count": null,
      "metadata": {
        "id": "ZG7Kz0581dkN"
      },
      "outputs": [],
      "source": [
        "key= (\"name\" , \"mobile_no\" , \"email_id\")\n",
        "value = (\"sudh\" , \"fdsf\" ,\"dsf\")"
      ]
    },
    {
      "cell_type": "code",
      "execution_count": null,
      "metadata": {
        "id": "qdTF_6Ue1dkO"
      },
      "outputs": [],
      "source": [
        "d = d1.fromkeys(key,value)"
      ]
    },
    {
      "cell_type": "code",
      "execution_count": null,
      "metadata": {
        "id": "et6nycw51dkQ",
        "outputId": "e22d0075-1068-4634-c188-13ef744ea04a"
      },
      "outputs": [
        {
          "data": {
            "text/plain": [
              "{'name': ('sudh', 'fdsf', 'dsf'),\n",
              " 'mobile_no': ('sudh', 'fdsf', 'dsf'),\n",
              " 'email_id': ('sudh', 'fdsf', 'dsf')}"
            ]
          },
          "execution_count": 24,
          "metadata": {},
          "output_type": "execute_result"
        }
      ],
      "source": [
        "d"
      ]
    },
    {
      "cell_type": "code",
      "execution_count": null,
      "metadata": {
        "id": "cm2a7BBZ1dkR",
        "outputId": "302aeb24-852c-4143-b3cb-de32455cea75"
      },
      "outputs": [
        {
          "data": {
            "text/plain": [
              "0"
            ]
          },
          "execution_count": 15,
          "metadata": {},
          "output_type": "execute_result"
        }
      ],
      "source": [
        "t1=(1,2,3,4,'dfs',True)\n",
        "t1.index(True)\n",
        "\n"
      ]
    },
    {
      "cell_type": "code",
      "execution_count": null,
      "metadata": {
        "id": "DUzSzZub1dkS",
        "outputId": "56eb4011-1c47-4544-ddcf-7f01e75e6a5f"
      },
      "outputs": [
        {
          "ename": "TypeError",
          "evalue": "unhashable type: 'list'",
          "output_type": "error",
          "traceback": [
            "\u001b[1;31m---------------------------------------------------------------------------\u001b[0m",
            "\u001b[1;31mTypeError\u001b[0m                                 Traceback (most recent call last)",
            "\u001b[1;32m<ipython-input-16-9dab632140b2>\u001b[0m in \u001b[0;36m<module>\u001b[1;34m\u001b[0m\n\u001b[1;32m----> 1\u001b[1;33m \u001b[1;33m{\u001b[0m\u001b[1;33m[\u001b[0m\u001b[1;36m3\u001b[0m\u001b[1;33m,\u001b[0m\u001b[1;36m4\u001b[0m\u001b[1;33m,\u001b[0m\u001b[1;36m5\u001b[0m\u001b[1;33m,\u001b[0m\u001b[1;36m6\u001b[0m\u001b[1;33m]\u001b[0m \u001b[1;33m,\u001b[0m \u001b[1;36m4\u001b[0m\u001b[1;33m,\u001b[0m\u001b[1;36m5\u001b[0m\u001b[1;33m,\u001b[0m\u001b[1;36m5\u001b[0m\u001b[1;33m,\u001b[0m\u001b[1;36m6\u001b[0m\u001b[1;33m,\u001b[0m\u001b[1;36m7\u001b[0m\u001b[1;33m}\u001b[0m\u001b[1;33m\u001b[0m\u001b[1;33m\u001b[0m\u001b[0m\n\u001b[0m",
            "\u001b[1;31mTypeError\u001b[0m: unhashable type: 'list'"
          ]
        }
      ],
      "source": [
        "{[3,4,5,6] , 4,5,5,6,7}"
      ]
    },
    {
      "cell_type": "code",
      "execution_count": null,
      "metadata": {
        "id": "--aQ-jIc1dkS",
        "outputId": "c5bec0a2-c543-4c99-981a-fc345f5db5b3"
      },
      "outputs": [
        {
          "ename": "NameError",
          "evalue": "name '_4' is not defined",
          "output_type": "error",
          "traceback": [
            "\u001b[1;31m---------------------------------------------------------------------------\u001b[0m",
            "\u001b[1;31mNameError\u001b[0m                                 Traceback (most recent call last)",
            "\u001b[1;32m<ipython-input-19-32a48dc1e9c0>\u001b[0m in \u001b[0;36m<module>\u001b[1;34m\u001b[0m\n\u001b[1;32m----> 1\u001b[1;33m \u001b[0md1\u001b[0m\u001b[1;33m=\u001b[0m\u001b[1;33m{\u001b[0m\u001b[0m_4\u001b[0m\u001b[1;33m:\u001b[0m\u001b[1;33m[\u001b[0m\u001b[1;36m1\u001b[0m\u001b[1;33m,\u001b[0m\u001b[1;36m2\u001b[0m\u001b[1;33m,\u001b[0m\u001b[1;36m3\u001b[0m\u001b[1;33m]\u001b[0m\u001b[1;33m,\u001b[0m\u001b[1;34m\"key\"\u001b[0m\u001b[1;33m:\u001b[0m\u001b[1;34m\"sudg\"\u001b[0m\u001b[1;33m,\u001b[0m \u001b[1;34m\"key1\"\u001b[0m\u001b[1;33m:\u001b[0m\u001b[1;36m5\u001b[0m\u001b[1;33m}\u001b[0m\u001b[1;33m\u001b[0m\u001b[1;33m\u001b[0m\u001b[0m\n\u001b[0m",
            "\u001b[1;31mNameError\u001b[0m: name '_4' is not defined"
          ]
        }
      ],
      "source": [
        "d1={_4:[1,2,3],\"key\":\"sudg\", \"key1\":5} "
      ]
    },
    {
      "cell_type": "code",
      "execution_count": null,
      "metadata": {
        "id": "9IPR8V081dkT",
        "outputId": "e4dc1e25-454b-45ca-adf7-0521e051880b"
      },
      "outputs": [
        {
          "data": {
            "text/plain": [
              "[1]"
            ]
          },
          "execution_count": 25,
          "metadata": {},
          "output_type": "execute_result"
        }
      ],
      "source": [
        "l=[1,2,3,4,5]\n",
        "l[0::-1]\n"
      ]
    },
    {
      "cell_type": "code",
      "execution_count": null,
      "metadata": {
        "id": "AOXjlIzm1dkT",
        "outputId": "45b3ba1b-c493-4e03-8329-5ff9a903acb5"
      },
      "outputs": [
        {
          "data": {
            "text/plain": [
              "tuple"
            ]
          },
          "execution_count": 26,
          "metadata": {},
          "output_type": "execute_result"
        }
      ],
      "source": [
        "t1 = (1,2,3,4,5)\n",
        "type(t1)"
      ]
    },
    {
      "cell_type": "code",
      "execution_count": null,
      "metadata": {
        "id": "0EpoA4bz1dkU"
      },
      "outputs": [],
      "source": [
        "t1 = (1)"
      ]
    },
    {
      "cell_type": "code",
      "execution_count": null,
      "metadata": {
        "id": "OD5A_EKs1dkU",
        "outputId": "9cbb393d-4b5e-4d7a-e254-80ef507b3d7d"
      },
      "outputs": [
        {
          "data": {
            "text/plain": [
              "int"
            ]
          },
          "execution_count": 28,
          "metadata": {},
          "output_type": "execute_result"
        }
      ],
      "source": [
        "type(t1)"
      ]
    },
    {
      "cell_type": "code",
      "execution_count": null,
      "metadata": {
        "id": "w-gquGy81dkV"
      },
      "outputs": [],
      "source": [
        "t = ([1,2,3,4,54] , \"dfsf\" , 234)"
      ]
    },
    {
      "cell_type": "code",
      "execution_count": null,
      "metadata": {
        "id": "S1GSZIHh1dkV",
        "outputId": "078a7432-c678-42f1-8a8c-3b15cb3ea045"
      },
      "outputs": [
        {
          "data": {
            "text/plain": [
              "[1, 2, 3, 4, 54]"
            ]
          },
          "execution_count": 30,
          "metadata": {},
          "output_type": "execute_result"
        }
      ],
      "source": [
        "t[0] "
      ]
    },
    {
      "cell_type": "code",
      "execution_count": null,
      "metadata": {
        "id": "ZYQ-NamA1dkW"
      },
      "outputs": [],
      "source": [
        "t[0][1]  = \"dfsfs\""
      ]
    },
    {
      "cell_type": "code",
      "execution_count": null,
      "metadata": {
        "id": "i530VhJH1dkW",
        "outputId": "2c6b898e-2f94-4e57-dc9d-43dd690d875e"
      },
      "outputs": [
        {
          "data": {
            "text/plain": [
              "([1, 'dfsfs', 3, 4, 54], 'dfsf', 234)"
            ]
          },
          "execution_count": 33,
          "metadata": {},
          "output_type": "execute_result"
        }
      ],
      "source": [
        "t"
      ]
    },
    {
      "cell_type": "code",
      "execution_count": null,
      "metadata": {
        "id": "KOcFcmFn1dkX"
      },
      "outputs": [],
      "source": [
        "s = {45,343,5454,545,565,65,65,6,56,56,5,343534,566,5,65,6,5,4353543,4,556}"
      ]
    },
    {
      "cell_type": "code",
      "execution_count": null,
      "metadata": {
        "id": "4LfVN4_i1dkY",
        "outputId": "6fd0c5ed-9d96-47be-89a1-d80b59c605c3"
      },
      "outputs": [
        {
          "data": {
            "text/plain": [
              "{4, 5, 6, 45, 56, 65, 343, 545, 556, 565, 566, 5454, 343534, 4353543}"
            ]
          },
          "execution_count": 37,
          "metadata": {},
          "output_type": "execute_result"
        }
      ],
      "source": [
        "s"
      ]
    },
    {
      "cell_type": "code",
      "execution_count": null,
      "metadata": {
        "id": "dMz_lRnL1dkY"
      },
      "outputs": [],
      "source": [
        "i = 0 \n",
        "j = 3\n",
        "for i, j in range(i,j) : \n",
        "     "
      ]
    },
    {
      "cell_type": "code",
      "execution_count": null,
      "metadata": {
        "id": "sP3wT9Mh1dkZ"
      },
      "outputs": [],
      "source": [
        "i = 10 \n",
        "j = 6"
      ]
    },
    {
      "cell_type": "code",
      "execution_count": null,
      "metadata": {
        "id": "tPYWIHvR1dkZ",
        "outputId": "8c0c95e1-e0d8-441e-895b-5e23fa0afa5f"
      },
      "outputs": [
        {
          "data": {
            "text/plain": [
              "10"
            ]
          },
          "execution_count": 39,
          "metadata": {},
          "output_type": "execute_result"
        }
      ],
      "source": [
        "i "
      ]
    },
    {
      "cell_type": "code",
      "execution_count": null,
      "metadata": {
        "id": "sDIhYbKe1dka",
        "outputId": "f650e497-07f2-4d93-fec8-c02195381439"
      },
      "outputs": [
        {
          "data": {
            "text/plain": [
              "6"
            ]
          },
          "execution_count": 40,
          "metadata": {},
          "output_type": "execute_result"
        }
      ],
      "source": [
        "j "
      ]
    },
    {
      "cell_type": "code",
      "execution_count": null,
      "metadata": {
        "id": "kpO5dxAL1dkb"
      },
      "outputs": [],
      "source": [
        " i,j = 10,6"
      ]
    },
    {
      "cell_type": "code",
      "execution_count": null,
      "metadata": {
        "id": "cdJADJKU1dkc",
        "outputId": "63f20988-4222-4c6f-9dcf-6907817e819a"
      },
      "outputs": [
        {
          "data": {
            "text/plain": [
              "10"
            ]
          },
          "execution_count": 42,
          "metadata": {},
          "output_type": "execute_result"
        }
      ],
      "source": [
        "i "
      ]
    },
    {
      "cell_type": "code",
      "execution_count": null,
      "metadata": {
        "id": "BrUybIhq1dkd",
        "outputId": "a9aa6113-8e84-4c7e-d2b5-88ac5dad6313"
      },
      "outputs": [
        {
          "data": {
            "text/plain": [
              "6"
            ]
          },
          "execution_count": 43,
          "metadata": {},
          "output_type": "execute_result"
        }
      ],
      "source": [
        "j"
      ]
    },
    {
      "cell_type": "code",
      "execution_count": null,
      "metadata": {
        "id": "4IOIHCS71dkd"
      },
      "outputs": [],
      "source": [
        "i = 4,5"
      ]
    },
    {
      "cell_type": "code",
      "execution_count": null,
      "metadata": {
        "id": "oPUxe8Hu1dke",
        "outputId": "ea3e35b2-7546-4abe-9737-b488ee147c48"
      },
      "outputs": [
        {
          "data": {
            "text/plain": [
              "(4, 5)"
            ]
          },
          "execution_count": 45,
          "metadata": {},
          "output_type": "execute_result"
        }
      ],
      "source": [
        "i"
      ]
    },
    {
      "cell_type": "code",
      "execution_count": null,
      "metadata": {
        "id": "Emu4VukZ1dke",
        "outputId": "a55866a6-3d1c-4a3c-cd0a-871ffb9d8955"
      },
      "outputs": [
        {
          "ename": "TypeError",
          "evalue": "unsupported operand type(s) for *: 'dict' and 'int'",
          "output_type": "error",
          "traceback": [
            "\u001b[1;31m---------------------------------------------------------------------------\u001b[0m",
            "\u001b[1;31mTypeError\u001b[0m                                 Traceback (most recent call last)",
            "\u001b[1;32m<ipython-input-46-598a4e07c337>\u001b[0m in \u001b[0;36m<module>\u001b[1;34m\u001b[0m\n\u001b[1;32m----> 1\u001b[1;33m \u001b[0md1\u001b[0m \u001b[1;33m*\u001b[0m\u001b[1;36m2\u001b[0m\u001b[1;33m\u001b[0m\u001b[1;33m\u001b[0m\u001b[0m\n\u001b[0m",
            "\u001b[1;31mTypeError\u001b[0m: unsupported operand type(s) for *: 'dict' and 'int'"
          ]
        }
      ],
      "source": [
        "d1 *2"
      ]
    },
    {
      "cell_type": "code",
      "execution_count": null,
      "metadata": {
        "id": "JW0h8nZo1dkg"
      },
      "outputs": [],
      "source": [
        "d3={\"key1\":\"ineuron\",\"key2\":\"fsds\"}\n",
        "d4={\"key1\":456,\"key2\":[1,2,3,4]}\n",
        "d3.update(d4)\n"
      ]
    },
    {
      "cell_type": "code",
      "execution_count": null,
      "metadata": {
        "id": "RQir5G1u1dkg",
        "outputId": "89c0c95d-2e32-473b-858b-7c4356eb2718"
      },
      "outputs": [
        {
          "data": {
            "text/plain": [
              "{'key1': 456, 'key2': [1, 2, 3, 4]}"
            ]
          },
          "execution_count": 48,
          "metadata": {},
          "output_type": "execute_result"
        }
      ],
      "source": [
        "d3"
      ]
    },
    {
      "cell_type": "code",
      "execution_count": null,
      "metadata": {
        "id": "JIJ-1HAi1dkh",
        "outputId": "91079e3d-b414-4847-cb85-dfb85a6bb88b"
      },
      "outputs": [
        {
          "data": {
            "text/plain": [
              "[1]"
            ]
          },
          "execution_count": 51,
          "metadata": {},
          "output_type": "execute_result"
        }
      ],
      "source": [
        "l=[1,2,3,4,5]\n",
        "l[0::-1]"
      ]
    },
    {
      "cell_type": "code",
      "execution_count": null,
      "metadata": {
        "id": "6EeG_vGc1dki"
      },
      "outputs": [],
      "source": [
        "d = {'key1' :\"fdsf\" , \"key2\" :\"fdsf\" , \"key1\" :2354}"
      ]
    },
    {
      "cell_type": "code",
      "execution_count": null,
      "metadata": {
        "id": "-t81T3Xx1dki",
        "outputId": "c4d2703c-bc79-4cb3-ef59-cd4468dcd2ae"
      },
      "outputs": [
        {
          "data": {
            "text/plain": [
              "dict_keys(['key1', 'key2'])"
            ]
          },
          "execution_count": 54,
          "metadata": {},
          "output_type": "execute_result"
        }
      ],
      "source": [
        "d.keys()"
      ]
    },
    {
      "cell_type": "code",
      "execution_count": null,
      "metadata": {
        "id": "huiUG-Az1dkj"
      },
      "outputs": [],
      "source": [
        "t = (1,2,3,4,1,True)"
      ]
    },
    {
      "cell_type": "code",
      "execution_count": null,
      "metadata": {
        "id": "-q3ujYaL1dkj",
        "outputId": "b371c8a4-df06-4292-b311-7fec7b1cb084"
      },
      "outputs": [
        {
          "data": {
            "text/plain": [
              "3"
            ]
          },
          "execution_count": 56,
          "metadata": {},
          "output_type": "execute_result"
        }
      ],
      "source": [
        "t.count(1)"
      ]
    },
    {
      "cell_type": "code",
      "execution_count": null,
      "metadata": {
        "id": "7r_se4541dkk",
        "outputId": "2a8d6639-d084-4355-f44e-93f5b195dd66"
      },
      "outputs": [
        {
          "data": {
            "text/plain": [
              "True"
            ]
          },
          "execution_count": 57,
          "metadata": {},
          "output_type": "execute_result"
        }
      ],
      "source": [
        "t[5]"
      ]
    },
    {
      "cell_type": "code",
      "execution_count": null,
      "metadata": {
        "id": "ASxScDbL1dkl",
        "outputId": "f8be5eec-8127-4b13-c1f5-5645e515d1c7"
      },
      "outputs": [
        {
          "data": {
            "text/plain": [
              "['a', 'b']"
            ]
          },
          "execution_count": 58,
          "metadata": {},
          "output_type": "execute_result"
        }
      ],
      "source": [
        "list({'a':1, 'b':2})"
      ]
    },
    {
      "cell_type": "code",
      "execution_count": null,
      "metadata": {
        "id": "xu1rY6FX1dkl"
      },
      "outputs": [],
      "source": [
        "t = (0,1,True)"
      ]
    },
    {
      "cell_type": "code",
      "execution_count": null,
      "metadata": {
        "id": "PvKM_YQT1dkm",
        "outputId": "efc5d1f6-3276-48b4-97e9-aa189d6d40d8"
      },
      "outputs": [
        {
          "data": {
            "text/plain": [
              "2"
            ]
          },
          "execution_count": 61,
          "metadata": {},
          "output_type": "execute_result"
        }
      ],
      "source": [
        "t.count(1)"
      ]
    },
    {
      "cell_type": "code",
      "execution_count": null,
      "metadata": {
        "id": "BFw1uSeo1dkn",
        "outputId": "587b7f0d-4183-44bf-a6a1-42ca7d0640dd"
      },
      "outputs": [
        {
          "ename": "NameError",
          "evalue": "name '_3' is not defined",
          "output_type": "error",
          "traceback": [
            "\u001b[1;31m---------------------------------------------------------------------------\u001b[0m",
            "\u001b[1;31mNameError\u001b[0m                                 Traceback (most recent call last)",
            "\u001b[1;32m<ipython-input-62-30062ffeabd8>\u001b[0m in \u001b[0;36m<module>\u001b[1;34m\u001b[0m\n\u001b[1;32m----> 1\u001b[1;33m \u001b[0me\u001b[0m \u001b[1;33m=\u001b[0m \u001b[1;33m{\u001b[0m\u001b[0m_3\u001b[0m\u001b[1;33m:\u001b[0m \u001b[1;33m[\u001b[0m\u001b[1;34m\"dfsaf\"\u001b[0m\u001b[1;33m,\u001b[0m \u001b[1;34m\"dfsf\"\u001b[0m\u001b[1;33m,\u001b[0m\u001b[1;36m4\u001b[0m\u001b[1;33m,\u001b[0m\u001b[1;36m5\u001b[0m\u001b[1;33m,\u001b[0m\u001b[1;36m6\u001b[0m\u001b[1;33m,\u001b[0m\u001b[1;36m7\u001b[0m\u001b[1;33m,\u001b[0m\u001b[1;36m7\u001b[0m\u001b[1;33m]\u001b[0m\u001b[1;33m}\u001b[0m\u001b[1;33m\u001b[0m\u001b[1;33m\u001b[0m\u001b[0m\n\u001b[0m\u001b[0;32m      2\u001b[0m \u001b[1;33m\u001b[0m\u001b[0m\n",
            "\u001b[1;31mNameError\u001b[0m: name '_3' is not defined"
          ]
        }
      ],
      "source": [
        "e = {_3: [\"dfsaf\", \"dfsf\",4,5,6,7,7]}\n",
        "\n"
      ]
    },
    {
      "cell_type": "code",
      "execution_count": null,
      "metadata": {
        "id": "6t7W7xtb1dkq"
      },
      "outputs": [],
      "source": [
        "e = {_3: [\"dfsaf\", \"dfsf\",4,5,6,7,7]}\n",
        "\n",
        "Output : \n",
        "\n",
        "{tuple: ['dfsaf', 'dfsf', 4, 5, 6, 7, 7]}\n"
      ]
    }
  ],
  "metadata": {
    "kernelspec": {
      "display_name": "Python 3",
      "language": "python",
      "name": "python3"
    },
    "language_info": {
      "codemirror_mode": {
        "name": "ipython",
        "version": 3
      },
      "file_extension": ".py",
      "mimetype": "text/x-python",
      "name": "python",
      "nbconvert_exporter": "python",
      "pygments_lexer": "ipython3",
      "version": "3.8.5"
    },
    "colab": {
      "name": "Tuples , set , dict .ipynb",
      "provenance": [],
      "include_colab_link": true
    }
  },
  "nbformat": 4,
  "nbformat_minor": 0
}